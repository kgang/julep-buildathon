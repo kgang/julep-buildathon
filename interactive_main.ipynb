{
 "cells": [
  {
   "cell_type": "code",
   "execution_count": 1,
   "metadata": {},
   "outputs": [],
   "source": [
    "from storygenerator import main, character\n",
    "from dotenv import load_dotenv"
   ]
  },
  {
   "cell_type": "code",
   "execution_count": 2,
   "metadata": {},
   "outputs": [
    {
     "ename": "KeyboardInterrupt",
     "evalue": "",
     "output_type": "error",
     "traceback": [
      "\u001b[0;31m---------------------------------------------------------------------------\u001b[0m",
      "\u001b[0;31mKeyboardInterrupt\u001b[0m                         Traceback (most recent call last)",
      "Cell \u001b[0;32mIn[2], line 1\u001b[0m\n\u001b[0;32m----> 1\u001b[0m s \u001b[38;5;241m=\u001b[39m \u001b[43mmain\u001b[49m\u001b[38;5;241;43m.\u001b[39;49m\u001b[43mScene\u001b[49m\u001b[43m(\u001b[49m\u001b[43m)\u001b[49m\n\u001b[1;32m      2\u001b[0m story_part \u001b[38;5;241m=\u001b[39m s\u001b[38;5;241m.\u001b[39mgenerate_scene(\u001b[38;5;241m0\u001b[39m)\n",
      "File \u001b[0;32m~/julep-buildathon/storygenerator/main.py:93\u001b[0m, in \u001b[0;36mScene.__init__\u001b[0;34m(self, li_url)\u001b[0m\n\u001b[1;32m     92\u001b[0m \u001b[38;5;28;01mdef\u001b[39;00m \u001b[38;5;21m__init__\u001b[39m(\u001b[38;5;28mself\u001b[39m, li_url: \u001b[38;5;28mstr\u001b[39m\u001b[38;5;241m=\u001b[39m\u001b[38;5;124m\"\u001b[39m\u001b[38;5;124mhttps://www.linkedin.com/in/kent-g-00ba0743/\u001b[39m\u001b[38;5;124m\"\u001b[39m):\n\u001b[0;32m---> 93\u001b[0m     \u001b[38;5;28mself\u001b[39m\u001b[38;5;241m.\u001b[39mhero \u001b[38;5;241m=\u001b[39m \u001b[43mcharacter\u001b[49m\u001b[38;5;241;43m.\u001b[39;49m\u001b[43mStoryCharacter\u001b[49m\u001b[38;5;241;43m.\u001b[39;49m\u001b[43mgen_character\u001b[49m\u001b[43m(\u001b[49m\u001b[43mli_url\u001b[49m\u001b[38;5;241;43m=\u001b[39;49m\u001b[43mli_url\u001b[49m\u001b[43m)\u001b[49m\n\u001b[1;32m     95\u001b[0m     \u001b[38;5;28mself\u001b[39m\u001b[38;5;241m.\u001b[39mstoryteller \u001b[38;5;241m=\u001b[39m character\u001b[38;5;241m.\u001b[39mStoryCharacter(\n\u001b[1;32m     96\u001b[0m         name\u001b[38;5;241m=\u001b[39m\u001b[38;5;124m\"\u001b[39m\u001b[38;5;124mStoryteller\u001b[39m\u001b[38;5;124m\"\u001b[39m,\n\u001b[1;32m     97\u001b[0m         description\u001b[38;5;241m=\u001b[39m\u001b[38;5;124mf\u001b[39m\u001b[38;5;124m\"\"\"\u001b[39m\n\u001b[0;32m   (...)\u001b[0m\n\u001b[1;32m    102\u001b[0m \u001b[38;5;124m        \u001b[39m\u001b[38;5;124m\"\"\"\u001b[39m\n\u001b[1;32m    103\u001b[0m     )\n",
      "File \u001b[0;32m~/julep-buildathon/storygenerator/character.py:20\u001b[0m, in \u001b[0;36mStoryCharacter.gen_character\u001b[0;34m(cls, li_url)\u001b[0m\n\u001b[1;32m     14\u001b[0m \u001b[38;5;129m@classmethod\u001b[39m\n\u001b[1;32m     15\u001b[0m \u001b[38;5;28;01mdef\u001b[39;00m \u001b[38;5;21mgen_character\u001b[39m(\u001b[38;5;28mcls\u001b[39m, li_url: \u001b[38;5;28mstr\u001b[39m):\n\u001b[1;32m     16\u001b[0m \u001b[38;5;250m    \u001b[39m\u001b[38;5;124;03m\"\"\"\u001b[39;00m\n\u001b[1;32m     17\u001b[0m \u001b[38;5;124;03m    profile:\u001b[39;00m\n\u001b[1;32m     18\u001b[0m \u001b[38;5;124;03m      LinkedIn profile or basic description\u001b[39;00m\n\u001b[1;32m     19\u001b[0m \u001b[38;5;124;03m    \"\"\"\u001b[39;00m\n\u001b[0;32m---> 20\u001b[0m     char_dict \u001b[38;5;241m=\u001b[39m \u001b[43mlinkedin_scraper\u001b[49m\u001b[38;5;241;43m.\u001b[39;49m\u001b[43murl_to_profile\u001b[49m\u001b[43m(\u001b[49m\u001b[43mli_url\u001b[49m\u001b[43m)\u001b[49m\n\u001b[1;32m     21\u001b[0m     \u001b[38;5;28;01mreturn\u001b[39;00m StoryCharacter(\n\u001b[1;32m     22\u001b[0m         name\u001b[38;5;241m=\u001b[39mchar_dict[\u001b[38;5;124m'\u001b[39m\u001b[38;5;124mname\u001b[39m\u001b[38;5;124m'\u001b[39m],\n\u001b[1;32m     23\u001b[0m         description\u001b[38;5;241m=\u001b[39m\u001b[38;5;124mf\u001b[39m\u001b[38;5;124m\"\"\"\u001b[39m\n\u001b[0;32m   (...)\u001b[0m\n\u001b[1;32m     29\u001b[0m \u001b[38;5;124m        \u001b[39m\u001b[38;5;124m\"\"\"\u001b[39m\n\u001b[1;32m     30\u001b[0m     )\n",
      "File \u001b[0;32m~/julep-buildathon/storygenerator/linkedin_scraper.py:193\u001b[0m, in \u001b[0;36murl_to_profile\u001b[0;34m(li_url)\u001b[0m\n\u001b[1;32m    191\u001b[0m execution \u001b[38;5;241m=\u001b[39m client\u001b[38;5;241m.\u001b[39mexecutions\u001b[38;5;241m.\u001b[39mcreate(task_id\u001b[38;5;241m=\u001b[39mtask\u001b[38;5;241m.\u001b[39mid, \u001b[38;5;28minput\u001b[39m\u001b[38;5;241m=\u001b[39m{\u001b[38;5;124m'\u001b[39m\u001b[38;5;124mperson_linkedin_str\u001b[39m\u001b[38;5;124m'\u001b[39m: person_str})\n\u001b[1;32m    192\u001b[0m \u001b[38;5;28;01mwhile\u001b[39;00m (result \u001b[38;5;241m:=\u001b[39m client\u001b[38;5;241m.\u001b[39mexecutions\u001b[38;5;241m.\u001b[39mget(execution\u001b[38;5;241m.\u001b[39mid))\u001b[38;5;241m.\u001b[39mstatus \u001b[38;5;129;01mnot\u001b[39;00m \u001b[38;5;129;01min\u001b[39;00m [\u001b[38;5;124m'\u001b[39m\u001b[38;5;124msucceeded\u001b[39m\u001b[38;5;124m'\u001b[39m, \u001b[38;5;124m'\u001b[39m\u001b[38;5;124mfailed\u001b[39m\u001b[38;5;124m'\u001b[39m]:\n\u001b[0;32m--> 193\u001b[0m     \u001b[43mtime\u001b[49m\u001b[38;5;241;43m.\u001b[39;49m\u001b[43msleep\u001b[49m\u001b[43m(\u001b[49m\u001b[38;5;241;43m1\u001b[39;49m\u001b[43m)\u001b[49m\n\u001b[1;32m    195\u001b[0m \u001b[38;5;28;01mif\u001b[39;00m result\u001b[38;5;241m.\u001b[39mstatus \u001b[38;5;241m==\u001b[39m \u001b[38;5;124m\"\u001b[39m\u001b[38;5;124msucceeded\u001b[39m\u001b[38;5;124m\"\u001b[39m:\n\u001b[1;32m    196\u001b[0m     res \u001b[38;5;241m=\u001b[39m result\u001b[38;5;241m.\u001b[39moutput\n",
      "\u001b[0;31mKeyboardInterrupt\u001b[0m: "
     ]
    }
   ],
   "source": [
    "s = main.Scene()\n",
    "story_part = s.generate_scene(0)"
   ]
  },
  {
   "cell_type": "code",
   "execution_count": null,
   "metadata": {},
   "outputs": [],
   "source": []
  },
  {
   "cell_type": "code",
   "execution_count": 5,
   "metadata": {},
   "outputs": [
    {
     "name": "stdout",
     "output_type": "stream",
     "text": [
      "In a quaint village nestled among rolling hills, young Lily tended to her family's flower shop, her days filled with the familiar routines of arranging bouquets and chatting with regular customers. Little did she know that a mysterious seed, gifted by a wandering traveler, would soon sprout and whisk her away from everything she'd ever known.\n"
     ]
    }
   ],
   "source": [
    "print(story_part)"
   ]
  },
  {
   "cell_type": "code",
   "execution_count": null,
   "metadata": {},
   "outputs": [],
   "source": []
  }
 ],
 "metadata": {
  "kernelspec": {
   "display_name": ".venv",
   "language": "python",
   "name": "python3"
  },
  "language_info": {
   "codemirror_mode": {
    "name": "ipython",
    "version": 3
   },
   "file_extension": ".py",
   "mimetype": "text/x-python",
   "name": "python",
   "nbconvert_exporter": "python",
   "pygments_lexer": "ipython3",
   "version": "3.10.12"
  }
 },
 "nbformat": 4,
 "nbformat_minor": 2
}
