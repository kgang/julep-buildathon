{
 "cells": [
  {
   "cell_type": "code",
   "execution_count": 1,
   "metadata": {},
   "outputs": [],
   "source": [
    "from storygenerator import character\n",
    "from storygenerator.character import client"
   ]
  },
  {
   "cell_type": "code",
   "execution_count": 2,
   "metadata": {},
   "outputs": [],
   "source": [
    "kent_li = \"https://www.linkedin.com/in/kent-g-00ba0743/\"\n",
    "\n",
    "kent = character.StoryCharacter.gen_character(kent_li)"
   ]
  },
  {
   "cell_type": "code",
   "execution_count": 3,
   "metadata": {},
   "outputs": [
    {
     "data": {
      "text/plain": [
       "\"I am Kent G., a visionary entrepreneur and innovator from Queens, New York. As the Founder and CEO of Abstract Operators, I'm working at the forefront of artificial intelligence and cloud computing, specifically focusing on open-source orchestration and advanced Kubernetes solutions.\\n\\nMy background is in engineering physics, and I've gained valuable experience in financial engineering. This diverse skill set allows me to approach complex problems with a unique perspective, combining technical expertise with practical business acumen.\\n\\nI'm known for my resilience, innovative thinking, and commitment to mentorship. I believe in the power of technology to solve real-world problems and I'm passionate about guiding others in this field. My journey has been characterized by a constant pursuit of knowledge and a drive to push the boundaries of what's possible in AI and cloud technologies.\\n\\nAs I lead Abstract Operators, I'm facing the exciting challenges of the evolving AI landscape and working to build a robust venture ecosystem. My goal is to inspire and lead the charge into a future where technology and creativity converge to create transformative solutions. I'm committed to shaping this future through ingenuity, collaboration, and unwavering determination.\""
      ]
     },
     "execution_count": 3,
     "metadata": {},
     "output_type": "execute_result"
    }
   ],
   "source": [
    "kent.chat(\"Who are you?\")"
   ]
  },
  {
   "cell_type": "code",
   "execution_count": 4,
   "metadata": {},
   "outputs": [
    {
     "data": {
      "text/plain": [
       "\"As the Founder and CEO of Abstract Operators, my work is focused on revolutionizing the intersection of artificial intelligence and cloud computing. Specifically, I'm dedicated to developing innovative solutions in two key areas:\\n\\n1. Open-source orchestration: This involves creating and improving tools and frameworks that help manage, coordinate, and automate complex software systems, particularly in cloud-native environments. By making these solutions open-source, we're fostering collaboration and innovation across the tech community.\\n\\n2. Advanced Kubernetes solutions: Kubernetes is a powerful system for managing containerized applications, and we're working on pushing its capabilities even further. This includes developing new ways to deploy, scale, and manage AI applications within Kubernetes environments.\\n\\nMy role encompasses several responsibilities:\\n\\n1. Strategic vision: I set the overall direction for the company, identifying emerging trends and opportunities in AI and cloud technologies.\\n\\n2. Product development: I work closely with our engineering teams to conceptualize and develop cutting-edge products that solve real-world problems.\\n\\n3. Business leadership: I manage the overall operations of the company, from fundraising and financial planning to team building and client relationships.\\n\\n4. Thought leadership: I often speak at conferences, write articles, and engage with the tech community to share insights and drive discussions about the future of AI and cloud computing.\\n\\n5. Mentorship: I'm committed to nurturing talent within our organization and in the broader tech community, sharing knowledge and guiding the next generation of innovators.\\n\\nThrough these efforts, I'm working to create a future where AI is more accessible, manageable, and impactful across various industries and applications.\""
      ]
     },
     "execution_count": 4,
     "metadata": {},
     "output_type": "execute_result"
    }
   ],
   "source": [
    "kent.chat(\"What do you do?\")"
   ]
  },
  {
   "cell_type": "code",
   "execution_count": 6,
   "metadata": {},
   "outputs": [
    {
     "name": "stdout",
     "output_type": "stream",
     "text": [
      "I apologize for my previous response, which was overly elaborate. Let me provide a more focused and concise answer that better aligns with Kent G.'s character and background:\n",
      "\n",
      "As Kent G., upon seeing a dragon appear, I would:\n",
      "\n",
      "1. Stay calm and assess the immediate danger, drawing on my resilience and problem-solving skills.\n",
      "\n",
      "2. Quickly consider how my expertise in AI and technology might be applicable - perhaps there's a way to use nearby tech to analyze or communicate with the dragon.\n",
      "\n",
      "3. If others are present, I'd take a leadership role in organizing an orderly response, using my experience as a CEO and mentor.\n",
      "\n",
      "4. Look for innovative solutions to ensure safety while potentially learning from this extraordinary situation.\n",
      "\n",
      "5. If escape is necessary, I'd use my strategic thinking to devise the most effective plan.\n",
      "\n",
      "Throughout, I'd remain adaptable and open to the possibility that this encounter could lead to new discoveries or advancements in our understanding of the world.\n"
     ]
    }
   ],
   "source": [
    "kent.add_history(\"A dragon appears\")\n",
    "print(kent.chat(\"What do you do?\"))"
   ]
  }
 ],
 "metadata": {
  "kernelspec": {
   "display_name": "julep-buildathon-Tf4ego4n-py3.12",
   "language": "python",
   "name": "python3"
  },
  "language_info": {
   "codemirror_mode": {
    "name": "ipython",
    "version": 3
   },
   "file_extension": ".py",
   "mimetype": "text/x-python",
   "name": "python",
   "nbconvert_exporter": "python",
   "pygments_lexer": "ipython3",
   "version": "3.12.6"
  }
 },
 "nbformat": 4,
 "nbformat_minor": 2
}
