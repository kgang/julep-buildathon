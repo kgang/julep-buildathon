{
 "cells": [
  {
   "cell_type": "code",
   "execution_count": 1,
   "metadata": {},
   "outputs": [
    {
     "data": {
      "text/plain": [
       "True"
      ]
     },
     "execution_count": 1,
     "metadata": {},
     "output_type": "execute_result"
    }
   ],
   "source": [
    "from dotenv import load_dotenv\n",
    "import os\n",
    "import requests\n",
    "from julep import Julep\n",
    "\n",
    "load_dotenv()"
   ]
  },
  {
   "cell_type": "code",
   "execution_count": 7,
   "metadata": {},
   "outputs": [],
   "source": [
    "headers = {'Authorization': f\"Bearer {os.getenv('PROXYCURL_API_KEY')}\"}\n",
    "url = \"https://nubela.co/proxycurl/api/v2/linkedin\"\n",
    "params = {'linkedin_profile_url': 'https://www.linkedin.com/in/kent-g-00ba0743/'}\n",
    "person: dict = requests.get(url, headers=headers, params=params).json()"
   ]
  },
  {
   "cell_type": "code",
   "execution_count": 16,
   "metadata": {},
   "outputs": [],
   "source": [
    "def experiences_to_str(experiences: list[dict]) -> str:\n",
    "    \"\"\"\n",
    "    Returns, in reverse order, work experience stringified.\n",
    "    \"\"\"\n",
    "    res = []\n",
    "    for experience in reversed(experiences):\n",
    "        company = experience.get('company')\n",
    "        title = experience.get('title')\n",
    "        starts_at = experience.get('starts_at')\n",
    "        ends_at = experience.get('ends_at', 'current')\n",
    "        description = experience.get('description')\n",
    "\n",
    "        experience_str = (\n",
    "            f\"Company: {company}\\n\"\n",
    "            f\"Title: {title}\\n\"\n",
    "            f\"Start Date: {starts_at}\\n\"\n",
    "            f\"End Date: {ends_at}\\n\"\n",
    "            f\"Description: {description}\\n\"\n",
    "        )\n",
    "        res.append(experience_str)\n",
    "\n",
    "    return '\\n'.join(res)"
   ]
  },
  {
   "cell_type": "code",
   "execution_count": null,
   "metadata": {},
   "outputs": [],
   "source": [
    "def education_to_str(education: list[dict]) -> str:\n",
    "    res = []\n",
    "    for edu in reversed(education):\n",
    "        field_of_study = edu.get('field_of_study')\n",
    "        degree_name = edu.get('degree_name')\n",
    "        school = edu.get('school')\n",
    "        description = edu.get('description')\n",
    "        grade = edu.get('grade')\n",
    "        activities = edu.get('activities_and_societies')\n",
    "        starts_at = edu.get('starts_at')\n",
    "        ends_at = edu.get('ends_at')\n",
    "\n",
    "        edu_string = (\n",
    "            f\"School: {school}\\n\"\n",
    "            f\"Degree: {degree_name} in {field_of_study}\\n\"\n",
    "            f\"Grade: {grade}\\n\"\n",
    "            f\"Activities: {activities}\\n\"\n",
    "            f\"Description: {description}\\n\"\n",
    "            f\"Start Date: {starts_at}\\n\"\n",
    "            f\"End Date: {ends_at}\\n\"\n",
    "        )\n",
    "        res.append(edu_string)\n",
    "\n",
    "    return '\\n'.join(res)"
   ]
  },
  {
   "cell_type": "code",
   "execution_count": null,
   "metadata": {},
   "outputs": [],
   "source": [
    "def person_to_str(person: dict):\n",
    "    # Basic Information\n",
    "    first_name: str | None = person.get('first_name')\n",
    "    last_name: str | None = person.get('last_name')\n",
    "    gender: str | None = person.get('gender')\n",
    "    birth_date: str | None = person.get('birth_date')\n",
    "\n",
    "    # Location Information\n",
    "    city: str | None = person.get('city')\n",
    "    state: str | None = person.get('state')\n",
    "    country: str | None = person.get('country_full_name')\n",
    "\n",
    "    # Profile Headline and Summary\n",
    "    headline: str | None = person.get('headline')  # tagline\n",
    "    summary: str | None = person.get('summary')  # longer headline\n",
    "\n",
    "    # Professional Information\n",
    "    industry: str | None = person.get('industry')\n",
    "    occupation: str | None = person.get('occupation')\n",
    "\n",
    "    # Experiences and Education\n",
    "    experiences: list | None = person.get('experiences')\n",
    "    experiences_str: str = experiences_to_str(experiences) if experiences else \"\"\n",
    "    education: list | None = person.get('education')\n",
    "    education_str: str = education_to_str(education) if education else \"\"\n",
    "\n",
    "    return (\n",
    "        f\"Name: {first_name or ''} {last_name or ''}\\n\"\n",
    "        f\"Gender: {gender or 'N/A'}\\n\"\n",
    "        f\"Birth Date: {birth_date or 'N/A'}\\n\"\n",
    "        f\"Location: {city or ''}, {state or ''}, {country or ''}\\n\"\n",
    "        f\"Headline: {headline or 'N/A'}\\n\"\n",
    "        f\"Summary: {summary or 'N/A'}\\n\"\n",
    "        f\"Industry: {industry or 'N/A'}\\n\"\n",
    "        f\"Occupation: {occupation or 'N/A'}\\n\"\n",
    "        f\"Experiences:\\n{experiences_str or 'No experience listed'}\\n\"\n",
    "        f\"Education:\\n{education_str or 'No education listed'}\"\n",
    "    )"
   ]
  },
  {
   "cell_type": "code",
   "execution_count": 3,
   "metadata": {},
   "outputs": [],
   "source": [
    "julep_api_key = os.getenv('JULEP_OPENAI_API_KEY')\n",
    "client = Julep(api_key=julep_api_key)"
   ]
  },
  {
   "cell_type": "code",
   "execution_count": 6,
   "metadata": {},
   "outputs": [],
   "source": [
    "agent = client.agents.create(name='Michael', model='gpt-4o-mini', about='You are a software developer')"
   ]
  },
  {
   "cell_type": "code",
   "execution_count": null,
   "metadata": {},
   "outputs": [],
   "source": [
    "profile_creator = client.agents.create(\n",
    "    name='Hero Story Writer',\n",
    "    model='gpt-4o-mini',\n",
    "    about='You are a professional writer who crafts engaging profiles that introduce individuals at the start of their hero’s journey. Highlight their potential, core traits, and hint at upcoming challenges. Your tone is inspirational, grand, yet relatable, connecting the reader to the hero’s beginnings and setting the stage for their transformation.',\n",
    ")"
   ]
  }
 ],
 "metadata": {
  "kernelspec": {
   "display_name": ".venv",
   "language": "python",
   "name": "python3"
  },
  "language_info": {
   "codemirror_mode": {
    "name": "ipython",
    "version": 3
   },
   "file_extension": ".py",
   "mimetype": "text/x-python",
   "name": "python",
   "nbconvert_exporter": "python",
   "pygments_lexer": "ipython3",
   "version": "3.10.12"
  }
 },
 "nbformat": 4,
 "nbformat_minor": 2
}
