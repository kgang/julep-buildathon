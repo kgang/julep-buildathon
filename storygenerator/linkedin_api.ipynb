{
 "cells": [
  {
   "cell_type": "code",
   "execution_count": 1,
   "metadata": {},
   "outputs": [
    {
     "data": {
      "text/plain": [
       "True"
      ]
     },
     "execution_count": 1,
     "metadata": {},
     "output_type": "execute_result"
    }
   ],
   "source": [
    "from dotenv import load_dotenv\n",
    "import os\n",
    "import requests\n",
    "from julep import Julep\n",
    "import yaml\n",
    "import time\n",
    "\n",
    "load_dotenv()"
   ]
  },
  {
   "cell_type": "code",
   "execution_count": 2,
   "metadata": {},
   "outputs": [],
   "source": [
    "def experiences_to_str(experiences: list[dict]) -> str:\n",
    "    \"\"\"\n",
    "    Returns, in reverse order, work experience stringified.\n",
    "    \"\"\"\n",
    "    res = []\n",
    "    for experience in reversed(experiences):\n",
    "        company = experience.get('company')\n",
    "        title = experience.get('title')\n",
    "        starts_at = experience.get('starts_at')\n",
    "        ends_at = experience.get('ends_at', 'current')\n",
    "        description = experience.get('description')\n",
    "\n",
    "        experience_str = (\n",
    "            f\"Company: {company}\\n\"\n",
    "            f\"Title: {title}\\n\"\n",
    "            f\"Start Date: {starts_at}\\n\"\n",
    "            f\"End Date: {ends_at}\\n\"\n",
    "            f\"Description: {description}\\n\"\n",
    "        )\n",
    "        res.append(experience_str)\n",
    "\n",
    "    return '\\n'.join(res)"
   ]
  },
  {
   "cell_type": "code",
   "execution_count": 3,
   "metadata": {},
   "outputs": [],
   "source": [
    "def education_to_str(education: list[dict]) -> str:\n",
    "    res = []\n",
    "    for edu in reversed(education):\n",
    "        field_of_study = edu.get('field_of_study')\n",
    "        degree_name = edu.get('degree_name')\n",
    "        school = edu.get('school')\n",
    "        description = edu.get('description')\n",
    "        grade = edu.get('grade')\n",
    "        activities = edu.get('activities_and_societies')\n",
    "        starts_at = edu.get('starts_at')\n",
    "        ends_at = edu.get('ends_at')\n",
    "\n",
    "        edu_string = (\n",
    "            f\"School: {school}\\n\"\n",
    "            f\"Degree: {degree_name} in {field_of_study}\\n\"\n",
    "            f\"Grade: {grade}\\n\"\n",
    "            f\"Activities: {activities}\\n\"\n",
    "            f\"Description: {description}\\n\"\n",
    "            f\"Start Date: {starts_at}\\n\"\n",
    "            f\"End Date: {ends_at}\\n\"\n",
    "        )\n",
    "        res.append(edu_string)\n",
    "\n",
    "    return '\\n'.join(res)"
   ]
  },
  {
   "cell_type": "code",
   "execution_count": 4,
   "metadata": {},
   "outputs": [],
   "source": [
    "def person_to_str(person: dict):\n",
    "    # Basic Information\n",
    "    first_name: str | None = person.get('first_name')\n",
    "    last_name: str | None = person.get('last_name')\n",
    "    gender: str | None = person.get('gender')\n",
    "    birth_date: str | None = person.get('birth_date')\n",
    "\n",
    "    # Location Information\n",
    "    city: str | None = person.get('city')\n",
    "    state: str | None = person.get('state')\n",
    "    country: str | None = person.get('country_full_name')\n",
    "\n",
    "    # Profile Headline and Summary\n",
    "    headline: str | None = person.get('headline')  # tagline\n",
    "    summary: str | None = person.get('summary')  # longer headline\n",
    "\n",
    "    # Professional Information\n",
    "    industry: str | None = person.get('industry')\n",
    "    occupation: str | None = person.get('occupation')\n",
    "\n",
    "    # Experiences and Education\n",
    "    experiences: list | None = person.get('experiences')\n",
    "    experiences_str: str = experiences_to_str(experiences) if experiences else \"\"\n",
    "    education: list | None = person.get('education')\n",
    "    education_str: str = education_to_str(education) if education else \"\"\n",
    "\n",
    "    return (\n",
    "        f\"Name: {first_name or ''} {last_name or ''}\\n\"\n",
    "        f\"Gender: {gender or 'N/A'}\\n\"\n",
    "        f\"Birth Date: {birth_date or 'N/A'}\\n\"\n",
    "        f\"Location: {city or ''}, {state or ''}, {country or ''}\\n\"\n",
    "        f\"Headline: {headline or 'N/A'}\\n\"\n",
    "        f\"Summary: {summary or 'N/A'}\\n\"\n",
    "        f\"Industry: {industry or 'N/A'}\\n\"\n",
    "        f\"Occupation: {occupation or 'N/A'}\\n\"\n",
    "        f\"Experiences:\\n{experiences_str or 'No experience listed'}\\n\"\n",
    "        f\"Education:\\n{education_str or 'No education listed'}\"\n",
    "    )"
   ]
  },
  {
   "cell_type": "code",
   "execution_count": 7,
   "metadata": {},
   "outputs": [
    {
     "name": "stdout",
     "output_type": "stream",
     "text": [
      "Name: Kent G.\n",
      "Gender: N/A\n",
      "Birth Date: N/A\n",
      "Location: Queens, New York, United States\n",
      "Headline: Founder & CEO at Abstract Operators\n",
      "Summary: playing with robot corporations\n",
      "Industry: N/A\n",
      "Occupation: Founder at Abstract Operators\n",
      "Experiences:\n",
      "Company: Kwiat Quantum Information Group, University of Illinois at Urbana-Champaign\n",
      "Title: Research Assistant\n",
      "Start Date: {'day': 1, 'month': 9, 'year': 2014}\n",
      "End Date: {'day': 30, 'month': 11, 'year': 2015}\n",
      "Description: Part Time\n",
      "\n",
      "Company: Fannie Mae\n",
      "Title: Financial Engineer I\n",
      "Start Date: {'day': 1, 'month': 6, 'year': 2017}\n",
      "End Date: {'day': 30, 'month': 6, 'year': 2018}\n",
      "Description: Develop algorithms and analyses for the pricing and policies of mortgage backed securities.\n",
      "\n",
      "Company: Fannie Mae\n",
      "Title: Financial Economist I\n",
      "Start Date: {'day': 1, 'month': 6, 'year': 2018}\n",
      "End Date: {'day': 30, 'month': 4, 'year': 2019}\n",
      "Description: •\tModel Credit Risk Transfer (CRT) transactions in Python, accounting for deal terms such as maturity, delinquency and prepayment triggers, interest rate spreads, and sizing. Develop and maintain software for deal modeling, CRTpy, supplementing INTEX (cost of $10k/person/month licenses).\n",
      "•\tMaintain and develop Tableau dashboards computing Conditional Prepayment Rates (CPR) for Mortgage Backed Securities (MBS), Mega pools, and Servicers.\n",
      "•\tProvide ad hoc analysis related to macroeconomic conditions or historical trends at behest of other divisions and the conservator, FHFA.\n",
      "•\tPrice one-off bulk deal mortgage transactions with banks and other dealers.\n",
      "•\tInterface with and review others’ work in SQL, R and SAS. Analyze datasets with hundreds of thousands to millions of observations.\n",
      "•\tMentor others in Python including writing lessons on object-oriented programming and decorators. Participate in training related to machine learning, artificial intelligence, and modeling.\n",
      "\n",
      "Company: Quantitative Brokers\n",
      "Title: Software Engineer, Data Infrastructure and Analytics\n",
      "Start Date: {'day': 1, 'month': 9, 'year': 2019}\n",
      "End Date: {'day': 31, 'month': 3, 'year': 2020}\n",
      "Description: None\n",
      "\n",
      "Company: Alkymi\n",
      "Title: Full Stack Engineer\n",
      "Start Date: {'day': 1, 'month': 3, 'year': 2020}\n",
      "End Date: {'day': 31, 'month': 12, 'year': 2021}\n",
      "Description:  Alkymi is delivering the first Data Inbox to the enterprise, freeing huge volumes of data from email and documents. Through world-class engineering, data science, and machine learning, Alkymi makes data instantly actionable. Learn more: https://www.alkymi.io \n",
      "\n",
      "Company: Alkymi\n",
      "Title: Senior Backend Engineer\n",
      "Start Date: {'day': 1, 'month': 12, 'year': 2021}\n",
      "End Date: {'day': 30, 'month': 4, 'year': 2023}\n",
      "Description: * Architected a new distributed websockets framework with Kafka and async FastAPI for eliminating polling REST API calls by the frontend and increasing reactivity and speed of our UI.\n",
      "* Designed and led development for a low-code postprocessing framework for manipulating ML-extracted data to align outputs with customer expectations.\n",
      "* Proposed and independently executed SaaS features such as reporting tools, batch export utilities, and version control framework enhancements.\n",
      "\n",
      "Company: Stride Labs\n",
      "Title: Senior Software Engineer\n",
      "Start Date: {'day': 1, 'month': 4, 'year': 2023}\n",
      "End Date: {'day': 30, 'month': 6, 'year': 2024}\n",
      "Description: Cosmos liquid staking, infrastructure, and blockchain development\n",
      "\n",
      "Company: Iron Key\n",
      "Title: Venture Partner\n",
      "Start Date: {'day': 1, 'month': 7, 'year': 2024}\n",
      "End Date: None\n",
      "Description: Iron Key is a venture ecosystem backed by 200+ LPs globally and deploys $1MN+ annually. We invest in pre-seed or seed-stage Web3 / AI startups building infrastructure to enable the enterprise adoption and consumer enablement of utility driven digital assets. Iron Key also has a Venture DAO with a Fellowship program dedicated to helping aspiring Angel & VC become professional venture investors.\n",
      "\n",
      "Company: Abstract Operators\n",
      "Title: Founder\n",
      "Start Date: {'day': 1, 'month': 7, 'year': 2024}\n",
      "End Date: None\n",
      "Description: open source ai agent orchestration, kubernetes for ai agents\n",
      "\n",
      "Education:\n",
      "School: Illinois Mathematics and Science Academy\n",
      "Degree: None in None\n",
      "Grade: None\n",
      "Activities: Leadership Education and Development (LEAD), Model United Nations, Future Problem Solvers\n",
      "Description: None\n",
      "Start Date: {'day': 1, 'month': 1, 'year': 2011}\n",
      "End Date: {'day': 31, 'month': 12, 'year': 2014}\n",
      "\n",
      "School: University of Illinois Urbana-Champaign\n",
      "Degree: Bachelor of Science - BS in Engineering Physics/Applied Physics\n",
      "Grade: None\n",
      "Activities: Illinois Business Consulting, Physics Research\n",
      "Description: Graduated with B.S. in Engineering Physics with Honors, Computational Physics Concentration; Minor in Mathematics\n",
      "Start Date: {'day': 1, 'month': 1, 'year': 2014}\n",
      "End Date: {'day': 31, 'month': 12, 'year': 2017}\n",
      "\n"
     ]
    }
   ],
   "source": [
    "headers = {'Authorization': f\"Bearer {os.getenv('PROXYCURL_API_KEY')}\"}\n",
    "url = \"https://nubela.co/proxycurl/api/v2/linkedin\"\n",
    "params = {'linkedin_profile_url': 'https://www.linkedin.com/in/kent-g-00ba0743/'}\n",
    "person: dict = requests.get(url, headers=headers, params=params).json()\n",
    "person_str = person_to_str(person)\n",
    "print(person_str)"
   ]
  },
  {
   "cell_type": "code",
   "execution_count": 8,
   "metadata": {},
   "outputs": [],
   "source": [
    "julep_api_key = os.getenv('JULEP_OPENAI_API_KEY')\n",
    "client = Julep(api_key=julep_api_key)"
   ]
  },
  {
   "cell_type": "code",
   "execution_count": 9,
   "metadata": {},
   "outputs": [],
   "source": [
    "profile_creator = client.agents.create(\n",
    "    name='Hero Story Writer',\n",
    "    model='gpt-4o-mini',\n",
    "    about='You are a professional writer who crafts engaging profiles that introduce individuals at the start of their hero’s journey. Highlight their potential, core traits, and hint at upcoming challenges. Your tone is inspirational, grand, yet relatable, connecting the reader to the hero’s beginnings and setting the stage for their transformation.',\n",
    ")"
   ]
  },
  {
   "cell_type": "code",
   "execution_count": 22,
   "metadata": {},
   "outputs": [],
   "source": [
    "with open('hero_writer.yaml', 'r') as f:\n",
    "    hero_writer_yaml = f.read()"
   ]
  },
  {
   "cell_type": "code",
   "execution_count": 23,
   "metadata": {},
   "outputs": [],
   "source": [
    "task = client.tasks.create(agent_id=profile_creator.id, **yaml.safe_load(hero_writer_yaml))"
   ]
  },
  {
   "cell_type": "code",
   "execution_count": 24,
   "metadata": {},
   "outputs": [],
   "source": [
    "execution = client.executions.create(task_id=task.id, input={'person_linkedin_str': person_str})"
   ]
  },
  {
   "cell_type": "code",
   "execution_count": 26,
   "metadata": {},
   "outputs": [],
   "source": [
    "while (result := client.executions.get(execution.id)).status not in ['succeeded', 'failed']:\n",
    "    time.sleep(1)\n",
    "\n",
    "if result.status == \"succeeded\":\n",
    "    res = result.output\n",
    "else:\n",
    "    raise Exception(result.error)"
   ]
  },
  {
   "cell_type": "code",
   "execution_count": 34,
   "metadata": {},
   "outputs": [
    {
     "name": "stdout",
     "output_type": "stream",
     "text": [
      "```yaml\n",
      "name: \"Kent G.\"\n",
      "background: \"Hailing from the vibrant borough of Queens, New York, Kent G. stands at the precipice of innovation, where technology meets creativity. As the Founder and CEO of Abstract Operators, Kent is poised to revolutionize the way we interact with artificial intelligence through open-source orchestration and advanced Kubernetes solutions. With a foundation built on rigorous academic training and a diverse professional journey, Kent embodies the spirit of a true pioneer.\"\n",
      "traits: \n",
      "    - \"Visionary\"\n",
      "    - \"Resilient\"\n",
      "    - \"Innovative\"\n",
      "    - \"Mentor\"\n",
      "potential: \"With a rich background in engineering physics and hands-on experience in financial engineering, Kent possesses a unique ability to navigate complex systems and extract actionable insights. Their journey has been marked by a relentless pursuit of knowledge, mentorship of others, and a passion for leveraging technology to solve real-world problems. As they embark on this next chapter, challenges loom on the horizon, from navigating the intricacies of the evolving AI landscape to building a robust venture ecosystem. Yet, with unwavering determination and a clear vision, Kent is destined to inspire and lead the charge into a future shaped by ingenuity and collaboration.\"\n",
      "```\n"
     ]
    }
   ],
   "source": [
    "choices = res.get('choices')\n",
    "message = choices[0]['message']['content']\n",
    "print(message)"
   ]
  }
 ],
 "metadata": {
  "kernelspec": {
   "display_name": ".venv",
   "language": "python",
   "name": "python3"
  },
  "language_info": {
   "codemirror_mode": {
    "name": "ipython",
    "version": 3
   },
   "file_extension": ".py",
   "mimetype": "text/x-python",
   "name": "python",
   "nbconvert_exporter": "python",
   "pygments_lexer": "ipython3",
   "version": "3.10.12"
  }
 },
 "nbformat": 4,
 "nbformat_minor": 2
}
