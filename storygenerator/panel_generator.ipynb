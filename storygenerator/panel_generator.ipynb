{
 "cells": [
  {
   "cell_type": "code",
   "execution_count": 1,
   "metadata": {},
   "outputs": [
    {
     "data": {
      "text/plain": [
       "True"
      ]
     },
     "execution_count": 1,
     "metadata": {},
     "output_type": "execute_result"
    }
   ],
   "source": [
    "import dotenv\n",
    "import os\n",
    "import replicate\n",
    "\n",
    "dotenv.load_dotenv()"
   ]
  },
  {
   "cell_type": "code",
   "execution_count": 2,
   "metadata": {},
   "outputs": [],
   "source": [
    "replicate_api_token = os.getenv('REPLICATE_API_TOKEN')"
   ]
  },
  {
   "cell_type": "code",
   "execution_count": 38,
   "metadata": {},
   "outputs": [],
   "source": [
    "style = 'grayscale, detailed drawing, japanese manga\\n'\n",
    "person_description = 'The person has a defined jawline with a slightly angular facial structure, contributing to a strong and masculine appearance. Their skin tone appears smooth and has a warm undertone, suggesting a healthy complexion. The hair is dark and styled in a short, spiky manner, with the sides closely cropped, adding to the overall structured look.\\n'\n",
    "scene = 'He is wearing a smart casual outfit with a vibrant red hoodie and jeans. The setting is a crowded hackathon event in a large hall filled with rows of computers and banners of tech sponsors. The atmosphere is bustling and brightly lit with fluorescent lights overhead.'"
   ]
  },
  {
   "cell_type": "code",
   "execution_count": 40,
   "metadata": {},
   "outputs": [],
   "source": [
    "prompt = style + person_description + scene"
   ]
  },
  {
   "cell_type": "code",
   "execution_count": 42,
   "metadata": {},
   "outputs": [],
   "source": [
    "output = replicate.run(\n",
    "    \"black-forest-labs/flux-dev\",\n",
    "    input={\n",
    "        \"prompt\": prompt,\n",
    "        \"go_fast\": False,\n",
    "        \"guidance\": 6,\n",
    "        \"megapixels\": \"1\",\n",
    "        \"num_outputs\": 1,\n",
    "        \"aspect_ratio\": \"1:1\",\n",
    "        \"output_quality\": 80,\n",
    "        \"num_inference_steps\": 28,\n",
    "    },\n",
    ")"
   ]
  },
  {
   "cell_type": "code",
   "execution_count": 43,
   "metadata": {},
   "outputs": [],
   "source": [
    "import base64\n",
    "\n",
    "base64_string = str(output[0]).replace(\"data:application/octet-stream;base64,\", \"\")\n",
    "image_data = base64.b64decode(base64_string)\n",
    "with open(\"image.png\", \"wb\") as file:\n",
    "    file.write(image_data)"
   ]
  },
  {
   "cell_type": "code",
   "execution_count": 55,
   "metadata": {},
   "outputs": [],
   "source": [
    "from PIL import Image, ImageDraw, ImageFont\n",
    "\n",
    "image = Image.open('image.png')\n",
    "draw = ImageDraw.Draw(image)\n",
    "\n",
    "caption = 'this is a caption'\n",
    "font_size = 50\n",
    "try:\n",
    "    font = ImageFont.truetype(\"arial.ttf\", font_size)\n",
    "except IOError:\n",
    "    font = ImageFont.load_default(size=font_size)\n",
    "\n",
    "bbox = draw.textbbox((0, 0), caption, font=font)\n",
    "text_width = bbox[2] - bbox[0]\n",
    "text_height = bbox[3] - bbox[1]\n",
    "image_width, image_height = image.size\n",
    "x_position = (image_width - text_width) / 2\n",
    "y_position = image_height - text_height - 30  # 10 pixels from the bottom\n",
    "draw.text((x_position, y_position), caption, font=font, fill=\"black\", stroke_fill='white', stroke_width=3)\n",
    "\n",
    "image.save('captioned_image.png')"
   ]
  }
 ],
 "metadata": {
  "kernelspec": {
   "display_name": ".venv",
   "language": "python",
   "name": "python3"
  },
  "language_info": {
   "codemirror_mode": {
    "name": "ipython",
    "version": 3
   },
   "file_extension": ".py",
   "mimetype": "text/x-python",
   "name": "python",
   "nbconvert_exporter": "python",
   "pygments_lexer": "ipython3",
   "version": "3.10.12"
  }
 },
 "nbformat": 4,
 "nbformat_minor": 2
}
